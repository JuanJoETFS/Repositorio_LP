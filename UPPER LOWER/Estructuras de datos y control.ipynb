{
 "cells": [
  {
   "cell_type": "markdown",
   "id": "14566fcc",
   "metadata": {},
   "source": [
    "#Listas\n"
   ]
  },
  {
   "cell_type": "code",
   "execution_count": 1,
   "id": "e8fb1395",
   "metadata": {},
   "outputs": [
    {
     "name": "stdout",
     "output_type": "stream",
     "text": [
      "['Juan Jose', 'Restrepo', 17]\n",
      "<class 'list'>\n"
     ]
    }
   ],
   "source": [
    "lista=[\"Juan Jose\",\"Restrepo\",17]\n",
    "print(lista)\n",
    "print(type(lista))"
   ]
  },
  {
   "cell_type": "code",
   "execution_count": 3,
   "id": "870b1c20",
   "metadata": {},
   "outputs": [
    {
     "data": {
      "text/plain": [
       "['Restrepo', 17]"
      ]
     },
     "execution_count": 3,
     "metadata": {},
     "output_type": "execute_result"
    }
   ],
   "source": [
    "lista[1:]"
   ]
  },
  {
   "cell_type": "code",
   "execution_count": null,
   "id": "97214da9",
   "metadata": {},
   "outputs": [],
   "source": [
    "len(lista)"
   ]
  },
  {
   "cell_type": "code",
   "execution_count": 5,
   "id": "8bbead15",
   "metadata": {},
   "outputs": [
    {
     "data": {
      "text/plain": [
       "2"
      ]
     },
     "execution_count": 5,
     "metadata": {},
     "output_type": "execute_result"
    }
   ],
   "source": [
    "lista.index(17)"
   ]
  },
  {
   "cell_type": "code",
   "execution_count": null,
   "id": "8e4b4685",
   "metadata": {},
   "outputs": [],
   "source": [
    "lista.insert(1,juan)\n",
    "print(lista)"
   ]
  },
  {
   "cell_type": "code",
   "execution_count": null,
   "id": "894ed250",
   "metadata": {},
   "outputs": [],
   "source": [
    "lista.append(\"ingeniero\")\n",
    "print(lista)"
   ]
  },
  {
   "cell_type": "code",
   "execution_count": null,
   "id": "42b0e283",
   "metadata": {},
   "outputs": [],
   "source": [
    "lista.extend([\"soltero\",2])"
   ]
  },
  {
   "cell_type": "code",
   "execution_count": null,
   "id": "b68ec754",
   "metadata": {},
   "outputs": [],
   "source": [
    "lista.remove(\"Juan\")\n",
    "print(lista)"
   ]
  },
  {
   "cell_type": "code",
   "execution_count": null,
   "id": "40410840",
   "metadata": {},
   "outputs": [],
   "source": [
    "lista.insert(2,\"camilo\")\n",
    "print(lista)"
   ]
  },
  {
   "cell_type": "code",
   "execution_count": null,
   "id": "5da4c6c8",
   "metadata": {},
   "outputs": [],
   "source": [
    "lista.remove(\"camilo\")\n",
    "print(lista)"
   ]
  },
  {
   "cell_type": "code",
   "execution_count": null,
   "id": "12b203e2",
   "metadata": {},
   "outputs": [],
   "source": [
    "lista.pop(6)\n",
    "print(lista)"
   ]
  },
  {
   "cell_type": "code",
   "execution_count": null,
   "id": "566ec014",
   "metadata": {},
   "outputs": [],
   "source": [
    "lista2[10,2,30,4,5]"
   ]
  },
  {
   "cell_type": "code",
   "execution_count": null,
   "id": "b414e51b",
   "metadata": {},
   "outputs": [],
   "source": [
    "lista2.sort()\n",
    "print(lista2)"
   ]
  }
 ],
 "metadata": {
  "kernelspec": {
   "display_name": "Python 3",
   "language": "python",
   "name": "python3"
  },
  "language_info": {
   "codemirror_mode": {
    "name": "ipython",
    "version": 3
   },
   "file_extension": ".py",
   "mimetype": "text/x-python",
   "name": "python",
   "nbconvert_exporter": "python",
   "pygments_lexer": "ipython3",
   "version": "3.13.5"
  }
 },
 "nbformat": 4,
 "nbformat_minor": 5
}
